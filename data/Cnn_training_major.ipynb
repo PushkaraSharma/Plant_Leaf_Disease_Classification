{
 "cells": [
  {
   "cell_type": "code",
   "execution_count": 1,
   "metadata": {
    "colab": {
     "base_uri": "https://localhost:8080/",
     "height": 153
    },
    "colab_type": "code",
    "executionInfo": {
     "elapsed": 5860,
     "status": "ok",
     "timestamp": 1583670829794,
     "user": {
      "displayName": "Pushkara Sharma",
      "photoUrl": "https://lh3.googleusercontent.com/a-/AOh14GibW_-JjevvGKFJxltWV9teS2UtCx8GEoAj7ru0Yw=s64",
      "userId": "02678491363543582499"
     },
     "user_tz": -330
    },
    "id": "-54mXcmkH_Pa",
    "outputId": "983b4b31-30b7-46f3-a03b-cf81e27608d0"
   },
   "outputs": [
    {
     "name": "stdout",
     "output_type": "stream",
     "text": [
      "Requirement already satisfied: keras in /usr/local/lib/python3.6/dist-packages (2.2.5)\n",
      "Requirement already satisfied: h5py in /usr/local/lib/python3.6/dist-packages (from keras) (2.8.0)\n",
      "Requirement already satisfied: six>=1.9.0 in /usr/local/lib/python3.6/dist-packages (from keras) (1.12.0)\n",
      "Requirement already satisfied: keras-applications>=1.0.8 in /usr/local/lib/python3.6/dist-packages (from keras) (1.0.8)\n",
      "Requirement already satisfied: numpy>=1.9.1 in /usr/local/lib/python3.6/dist-packages (from keras) (1.17.5)\n",
      "Requirement already satisfied: scipy>=0.14 in /usr/local/lib/python3.6/dist-packages (from keras) (1.4.1)\n",
      "Requirement already satisfied: keras-preprocessing>=1.1.0 in /usr/local/lib/python3.6/dist-packages (from keras) (1.1.0)\n",
      "Requirement already satisfied: pyyaml in /usr/local/lib/python3.6/dist-packages (from keras) (3.13)\n"
     ]
    }
   ],
   "source": [
    "!pip install keras"
   ]
  },
  {
   "cell_type": "code",
   "execution_count": 1,
   "metadata": {
    "colab": {
     "base_uri": "https://localhost:8080/",
     "height": 80
    },
    "colab_type": "code",
    "executionInfo": {
     "elapsed": 3497,
     "status": "ok",
     "timestamp": 1583670858170,
     "user": {
      "displayName": "Pushkara Sharma",
      "photoUrl": "https://lh3.googleusercontent.com/a-/AOh14GibW_-JjevvGKFJxltWV9teS2UtCx8GEoAj7ru0Yw=s64",
      "userId": "02678491363543582499"
     },
     "user_tz": -330
    },
    "id": "FOp84idkIuyA",
    "outputId": "2a5032e1-e3d6-41f9-d632-a6e37eda7f68"
   },
   "outputs": [
    {
     "name": "stderr",
     "output_type": "stream",
     "text": [
      "Using TensorFlow backend.\n"
     ]
    }
   ],
   "source": [
    "\n",
    "import os\n",
    "import numpy as np\n",
    "import cv2\n",
    "from keras.models import Sequential\n",
    "from keras.layers.normalization import BatchNormalization\n",
    "from keras.layers.convolutional import Conv2D\n",
    "from keras.layers.convolutional import MaxPooling2D\n",
    "from keras.layers.core import Activation, Flatten, Dropout, Dense\n",
    "from keras import backend as K\n",
    "from keras.preprocessing.image import ImageDataGenerator\n",
    "from keras.optimizers import Adam"
   ]
  },
  {
   "cell_type": "code",
   "execution_count": 0,
   "metadata": {
    "colab": {},
    "colab_type": "code",
    "id": "-JUIli91I4Oz"
   },
   "outputs": [],
   "source": [
    "!pip install -U -q PyDrive\n",
    "from pydrive.auth import GoogleAuth\n",
    "from pydrive.drive import GoogleDrive\n",
    "from google.colab import auth\n",
    "from oauth2client.client import GoogleCredentials"
   ]
  },
  {
   "cell_type": "code",
   "execution_count": 0,
   "metadata": {
    "colab": {},
    "colab_type": "code",
    "id": "DKmUX3dqJKcT"
   },
   "outputs": [],
   "source": [
    "auth.authenticate_user()\n",
    "gauth = GoogleAuth()\n",
    "gauth.credentials  = GoogleCredentials.get_application_default()\n",
    "drive = GoogleDrive(gauth)"
   ]
  },
  {
   "cell_type": "code",
   "execution_count": 4,
   "metadata": {
    "colab": {
     "base_uri": "https://localhost:8080/",
     "height": 122
    },
    "colab_type": "code",
    "executionInfo": {
     "elapsed": 25625,
     "status": "ok",
     "timestamp": 1583671050075,
     "user": {
      "displayName": "Pushkara Sharma",
      "photoUrl": "https://lh3.googleusercontent.com/a-/AOh14GibW_-JjevvGKFJxltWV9teS2UtCx8GEoAj7ru0Yw=s64",
      "userId": "02678491363543582499"
     },
     "user_tz": -330
    },
    "id": "caCRqnwsJMu4",
    "outputId": "7ad51e23-a7d7-4383-fae4-d6ae5a50d626"
   },
   "outputs": [
    {
     "name": "stdout",
     "output_type": "stream",
     "text": [
      "Go to this URL in a browser: https://accounts.google.com/o/oauth2/auth?client_id=947318989803-6bn6qk8qdgf4n4g3pfee6491hc0brc4i.apps.googleusercontent.com&redirect_uri=urn%3aietf%3awg%3aoauth%3a2.0%3aoob&response_type=code&scope=email%20https%3a%2f%2fwww.googleapis.com%2fauth%2fdocs.test%20https%3a%2f%2fwww.googleapis.com%2fauth%2fdrive%20https%3a%2f%2fwww.googleapis.com%2fauth%2fdrive.photos.readonly%20https%3a%2f%2fwww.googleapis.com%2fauth%2fpeopleapi.readonly\n",
      "\n",
      "Enter your authorization code:\n",
      "··········\n",
      "Mounted at /content/gdrive\n"
     ]
    }
   ],
   "source": [
    "from google.colab import drive\n",
    "drive.mount('/content/gdrive')"
   ]
  },
  {
   "cell_type": "code",
   "execution_count": 0,
   "metadata": {
    "colab": {},
    "colab_type": "code",
    "id": "CGllcEFEJhrb"
   },
   "outputs": [],
   "source": [
    "downloaded = drive.CreateFile({'id':'1yZRZGmhwvbxHmCy_-yBGlpUxocWPeT_L'})\n",
    "downloaded.GetContentFile('X_data_full.npy')"
   ]
  },
  {
   "cell_type": "code",
   "execution_count": 2,
   "metadata": {
    "colab": {},
    "colab_type": "code",
    "id": "Jr4CeX9eJ62-"
   },
   "outputs": [],
   "source": [
    "X = np.load('X_data_full.npy')"
   ]
  },
  {
   "cell_type": "code",
   "execution_count": 0,
   "metadata": {
    "colab": {},
    "colab_type": "code",
    "id": "itWI4-o3KACN"
   },
   "outputs": [],
   "source": [
    "downloaded = drive.CreateFile({'id':'1g-T9QB3KU112PcV5OfG1MdyoZ6NjEaZ-'})\n",
    "downloaded.GetContentFile('Y_data_full.npy')"
   ]
  },
  {
   "cell_type": "code",
   "execution_count": 3,
   "metadata": {
    "colab": {
     "base_uri": "https://localhost:8080/",
     "height": 34
    },
    "colab_type": "code",
    "executionInfo": {
     "elapsed": 869,
     "status": "ok",
     "timestamp": 1583671592575,
     "user": {
      "displayName": "Pushkara Sharma",
      "photoUrl": "https://lh3.googleusercontent.com/a-/AOh14GibW_-JjevvGKFJxltWV9teS2UtCx8GEoAj7ru0Yw=s64",
      "userId": "02678491363543582499"
     },
     "user_tz": -330
    },
    "id": "kKUQ0JoHKBCP",
    "outputId": "1d93d1fa-84b9-41c0-8ac6-ac4dd3c66a52"
   },
   "outputs": [
    {
     "name": "stdout",
     "output_type": "stream",
     "text": [
      "(53269, 64, 64, 3) (53269, 38)\n"
     ]
    }
   ],
   "source": [
    "Y = np.load('Y_data_full.npy')\n",
    "print(X.shape,Y.shape)"
   ]
  },
  {
   "cell_type": "code",
   "execution_count": 4,
   "metadata": {
    "colab": {},
    "colab_type": "code",
    "id": "aNjTS4WDKBHH"
   },
   "outputs": [],
   "source": [
    "from sklearn.model_selection import train_test_split\n",
    "train_x,test_x,train_y,test_y = train_test_split(X,Y,test_size=0.15,random_state=42)\n",
    "x_train,x_val,y_train,y_val = train_test_split(train_x,train_y,test_size=0.1,random_state=42)"
   ]
  },
  {
   "cell_type": "code",
   "execution_count": 5,
   "metadata": {
    "colab": {
     "base_uri": "https://localhost:8080/",
     "height": 34
    },
    "colab_type": "code",
    "executionInfo": {
     "elapsed": 1281,
     "status": "ok",
     "timestamp": 1583672238881,
     "user": {
      "displayName": "Pushkara Sharma",
      "photoUrl": "https://lh3.googleusercontent.com/a-/AOh14GibW_-JjevvGKFJxltWV9teS2UtCx8GEoAj7ru0Yw=s64",
      "userId": "02678491363543582499"
     },
     "user_tz": -330
    },
    "id": "EZ4TvyBFKBN-",
    "outputId": "fba7b16a-6412-4da6-feb9-b6decaa61876"
   },
   "outputs": [
    {
     "name": "stdout",
     "output_type": "stream",
     "text": [
      "(40750, 64, 64, 3) (40750, 38) (4528, 64, 64, 3) (4528, 38) (7991, 64, 64, 3) (7991, 38)\n"
     ]
    }
   ],
   "source": [
    "print(x_train.shape,y_train.shape,x_val.shape,y_val.shape,test_x.shape,test_y.shape)"
   ]
  },
  {
   "cell_type": "code",
   "execution_count": 6,
   "metadata": {
    "colab": {
     "base_uri": "https://localhost:8080/",
     "height": 302
    },
    "colab_type": "code",
    "executionInfo": {
     "elapsed": 2208,
     "status": "ok",
     "timestamp": 1583672242114,
     "user": {
      "displayName": "Pushkara Sharma",
      "photoUrl": "https://lh3.googleusercontent.com/a-/AOh14GibW_-JjevvGKFJxltWV9teS2UtCx8GEoAj7ru0Yw=s64",
      "userId": "02678491363543582499"
     },
     "user_tz": -330
    },
    "id": "IBeoMmiIKBQn",
    "outputId": "29f9e335-1e0d-4437-fceb-0ea50af1d8c3"
   },
   "outputs": [
    {
     "data": {
      "text/plain": [
       "<Figure size 640x480 with 1 Axes>"
      ]
     },
     "metadata": {},
     "output_type": "display_data"
    },
    {
     "data": {
      "text/plain": [
       "array([0, 0, 0, 0, 0, 0, 0, 0, 0, 0, 0, 0, 0, 0, 0, 0, 0, 0, 0, 0, 0, 0,\n",
       "       0, 0, 0, 0, 1, 0, 0, 0, 0, 0, 0, 0, 0, 0, 0, 0])"
      ]
     },
     "execution_count": 6,
     "metadata": {},
     "output_type": "execute_result"
    }
   ],
   "source": [
    "import matplotlib.pyplot as plt\n",
    "plt.imshow(train_x[100])\n",
    "plt.show()\n",
    "y_train[21000]"
   ]
  },
  {
   "cell_type": "code",
   "execution_count": 7,
   "metadata": {
    "colab": {},
    "colab_type": "code",
    "id": "qkGsJO-kKTpm"
   },
   "outputs": [],
   "source": [
    "from keras.preprocessing.image import ImageDataGenerator\n",
    "aug = ImageDataGenerator(\n",
    "    rotation_range=25, width_shift_range=0.1,\n",
    "    height_shift_range=0.1, shear_range=0.2, \n",
    "    zoom_range=0.2,horizontal_flip=True, \n",
    "    fill_mode=\"nearest\")"
   ]
  },
  {
   "cell_type": "code",
   "execution_count": 8,
   "metadata": {
    "colab": {},
    "colab_type": "code",
    "id": "rL0evHK6KTuw"
   },
   "outputs": [],
   "source": [
    "n_classes  =38"
   ]
  },
  {
   "cell_type": "code",
   "execution_count": 9,
   "metadata": {
    "colab": {},
    "colab_type": "code",
    "id": "U0pw-z3cKTzZ"
   },
   "outputs": [
    {
     "name": "stdout",
     "output_type": "stream",
     "text": [
      "WARNING:tensorflow:From C:\\Users\\dell\\Anaconda3\\lib\\site-packages\\tensorflow\\python\\framework\\op_def_library.py:263: colocate_with (from tensorflow.python.framework.ops) is deprecated and will be removed in a future version.\n",
      "Instructions for updating:\n",
      "Colocations handled automatically by placer.\n",
      "WARNING:tensorflow:From C:\\Users\\dell\\Anaconda3\\lib\\site-packages\\keras\\backend\\tensorflow_backend.py:3445: calling dropout (from tensorflow.python.ops.nn_ops) with keep_prob is deprecated and will be removed in a future version.\n",
      "Instructions for updating:\n",
      "Please use `rate` instead of `keep_prob`. Rate should be set to `rate = 1 - keep_prob`.\n"
     ]
    }
   ],
   "source": [
    "#MODEL\n",
    "\n",
    "model = Sequential()\n",
    "inputShape = (64, 64, 3)\n",
    "chanDim = -1\n",
    "if K.image_data_format() == \"channels_first\":\n",
    "    inputShape = (3, 64, 64)\n",
    "    chanDim = 1\n",
    "model.add(Conv2D(32, (3, 3), padding=\"same\",input_shape=inputShape))\n",
    "model.add(Activation(\"relu\"))\n",
    "model.add(BatchNormalization(axis=chanDim))\n",
    "model.add(MaxPooling2D(pool_size=(3, 3)))\n",
    "model.add(Dropout(0.25))\n",
    "\n",
    "model.add(Conv2D(64, (3, 3), padding=\"same\"))\n",
    "model.add(Activation(\"relu\"))\n",
    "model.add(BatchNormalization(axis=chanDim))\n",
    "\n",
    "model.add(Conv2D(64, (3, 3), padding=\"same\"))\n",
    "model.add(Activation(\"relu\"))\n",
    "model.add(BatchNormalization(axis=chanDim))\n",
    "model.add(MaxPooling2D(pool_size=(2, 2)))\n",
    "model.add(Dropout(0.25))\n",
    "\n",
    "model.add(Conv2D(128, (3, 3), padding=\"same\"))\n",
    "model.add(Activation(\"relu\"))\n",
    "model.add(BatchNormalization(axis=chanDim))\n",
    "\n",
    "model.add(Conv2D(128, (3, 3), padding=\"same\"))\n",
    "model.add(Activation(\"relu\"))\n",
    "model.add(BatchNormalization(axis=chanDim))\n",
    "model.add(MaxPooling2D(pool_size=(2, 2)))\n",
    "model.add(Dropout(0.25))\n",
    "\n",
    "model.add(Flatten())\n",
    "\n",
    "model.add(Dense(1024))\n",
    "model.add(Activation(\"relu\"))\n",
    "model.add(BatchNormalization())\n",
    "model.add(Dropout(0.5))\n",
    "model.add(Dense(n_classes))\n",
    "model.add(Activation(\"softmax\"))"
   ]
  },
  {
   "cell_type": "code",
   "execution_count": 10,
   "metadata": {
    "colab": {
     "base_uri": "https://localhost:8080/",
     "height": 1000
    },
    "colab_type": "code",
    "executionInfo": {
     "elapsed": 789,
     "status": "ok",
     "timestamp": 1583672253304,
     "user": {
      "displayName": "Pushkara Sharma",
      "photoUrl": "https://lh3.googleusercontent.com/a-/AOh14GibW_-JjevvGKFJxltWV9teS2UtCx8GEoAj7ru0Yw=s64",
      "userId": "02678491363543582499"
     },
     "user_tz": -330
    },
    "id": "VRp9wH86KTyM",
    "outputId": "da02edf6-328b-4ba1-b3cf-20c9686f0008"
   },
   "outputs": [
    {
     "name": "stdout",
     "output_type": "stream",
     "text": [
      "_________________________________________________________________\n",
      "Layer (type)                 Output Shape              Param #   \n",
      "=================================================================\n",
      "conv2d_1 (Conv2D)            (None, 64, 64, 32)        896       \n",
      "_________________________________________________________________\n",
      "activation_1 (Activation)    (None, 64, 64, 32)        0         \n",
      "_________________________________________________________________\n",
      "batch_normalization_1 (Batch (None, 64, 64, 32)        128       \n",
      "_________________________________________________________________\n",
      "max_pooling2d_1 (MaxPooling2 (None, 21, 21, 32)        0         \n",
      "_________________________________________________________________\n",
      "dropout_1 (Dropout)          (None, 21, 21, 32)        0         \n",
      "_________________________________________________________________\n",
      "conv2d_2 (Conv2D)            (None, 21, 21, 64)        18496     \n",
      "_________________________________________________________________\n",
      "activation_2 (Activation)    (None, 21, 21, 64)        0         \n",
      "_________________________________________________________________\n",
      "batch_normalization_2 (Batch (None, 21, 21, 64)        256       \n",
      "_________________________________________________________________\n",
      "conv2d_3 (Conv2D)            (None, 21, 21, 64)        36928     \n",
      "_________________________________________________________________\n",
      "activation_3 (Activation)    (None, 21, 21, 64)        0         \n",
      "_________________________________________________________________\n",
      "batch_normalization_3 (Batch (None, 21, 21, 64)        256       \n",
      "_________________________________________________________________\n",
      "max_pooling2d_2 (MaxPooling2 (None, 10, 10, 64)        0         \n",
      "_________________________________________________________________\n",
      "dropout_2 (Dropout)          (None, 10, 10, 64)        0         \n",
      "_________________________________________________________________\n",
      "conv2d_4 (Conv2D)            (None, 10, 10, 128)       73856     \n",
      "_________________________________________________________________\n",
      "activation_4 (Activation)    (None, 10, 10, 128)       0         \n",
      "_________________________________________________________________\n",
      "batch_normalization_4 (Batch (None, 10, 10, 128)       512       \n",
      "_________________________________________________________________\n",
      "conv2d_5 (Conv2D)            (None, 10, 10, 128)       147584    \n",
      "_________________________________________________________________\n",
      "activation_5 (Activation)    (None, 10, 10, 128)       0         \n",
      "_________________________________________________________________\n",
      "batch_normalization_5 (Batch (None, 10, 10, 128)       512       \n",
      "_________________________________________________________________\n",
      "max_pooling2d_3 (MaxPooling2 (None, 5, 5, 128)         0         \n",
      "_________________________________________________________________\n",
      "dropout_3 (Dropout)          (None, 5, 5, 128)         0         \n",
      "_________________________________________________________________\n",
      "flatten_1 (Flatten)          (None, 3200)              0         \n",
      "_________________________________________________________________\n",
      "dense_1 (Dense)              (None, 1024)              3277824   \n",
      "_________________________________________________________________\n",
      "activation_6 (Activation)    (None, 1024)              0         \n",
      "_________________________________________________________________\n",
      "batch_normalization_6 (Batch (None, 1024)              4096      \n",
      "_________________________________________________________________\n",
      "dropout_4 (Dropout)          (None, 1024)              0         \n",
      "_________________________________________________________________\n",
      "dense_2 (Dense)              (None, 38)                38950     \n",
      "_________________________________________________________________\n",
      "activation_7 (Activation)    (None, 38)                0         \n",
      "=================================================================\n",
      "Total params: 3,600,294\n",
      "Trainable params: 3,597,414\n",
      "Non-trainable params: 2,880\n",
      "_________________________________________________________________\n"
     ]
    }
   ],
   "source": [
    "model.summary()"
   ]
  },
  {
   "cell_type": "code",
   "execution_count": 11,
   "metadata": {},
   "outputs": [],
   "source": [
    "from keras.utils.vis_utils import plot_model\n",
    "plot_model(model,to_file='model_plot.png',show_shapes=True,show_layer_names=True)"
   ]
  },
  {
   "cell_type": "code",
   "execution_count": 0,
   "metadata": {
    "colab": {},
    "colab_type": "code",
    "id": "md2wcv0cKTth"
   },
   "outputs": [],
   "source": [
    "opt =Adam(lr = 1e-3,decay=1e-3/25)\n",
    "model.compile(loss='binary_crossentropy',metrics=['accuracy'],optimizer=opt)"
   ]
  },
  {
   "cell_type": "code",
   "execution_count": 0,
   "metadata": {
    "colab": {},
    "colab_type": "code",
    "id": "Ix3LkE5SMN68"
   },
   "outputs": [],
   "source": [
    "from keras.callbacks import *\n",
    "filepath=\"/content/gdrive/My Drive/Colab Notebooks/CNN_weights/epochs:{epoch:03d}-val_acc:{val_acc:.3f}.hdf5\"\n",
    "checkpoint = ModelCheckpoint(filepath, monitor='val_acc', verbose=1, save_best_only=True, mode='max')\n",
    "callbacks_list = [checkpoint]"
   ]
  },
  {
   "cell_type": "code",
   "execution_count": 34,
   "metadata": {
    "colab": {
     "base_uri": "https://localhost:8080/",
     "height": 1000
    },
    "colab_type": "code",
    "executionInfo": {
     "elapsed": 3048219,
     "status": "ok",
     "timestamp": 1583675313776,
     "user": {
      "displayName": "Pushkara Sharma",
      "photoUrl": "https://lh3.googleusercontent.com/a-/AOh14GibW_-JjevvGKFJxltWV9teS2UtCx8GEoAj7ru0Yw=s64",
      "userId": "02678491363543582499"
     },
     "user_tz": -330
    },
    "id": "exUMgqVXM-pJ",
    "outputId": "08ce4a74-4095-47bc-93a7-2fb1632f2b91"
   },
   "outputs": [
    {
     "name": "stdout",
     "output_type": "stream",
     "text": [
      "Epoch 1/50\n",
      "1414/1414 [==============================] - 63s 45ms/step - loss: 0.0655 - acc: 0.9798 - val_loss: 0.0455 - val_acc: 0.9857\n",
      "\n",
      "Epoch 00001: val_acc improved from -inf to 0.98574, saving model to /content/gdrive/My Drive/Colab Notebooks/CNN_weights/epochs:001-val_acc:0.986.hdf5\n",
      "Epoch 2/50\n",
      "1414/1414 [==============================] - 61s 43ms/step - loss: 0.0396 - acc: 0.9862 - val_loss: 0.0431 - val_acc: 0.9856\n",
      "\n",
      "Epoch 00002: val_acc did not improve from 0.98574\n",
      "Epoch 3/50\n",
      "1414/1414 [==============================] - 61s 43ms/step - loss: 0.0315 - acc: 0.9889 - val_loss: 0.0414 - val_acc: 0.9858\n",
      "\n",
      "Epoch 00003: val_acc improved from 0.98574 to 0.98580, saving model to /content/gdrive/My Drive/Colab Notebooks/CNN_weights/epochs:003-val_acc:0.986.hdf5\n",
      "Epoch 4/50\n",
      "1414/1414 [==============================] - 61s 43ms/step - loss: 0.0281 - acc: 0.9899 - val_loss: 0.0356 - val_acc: 0.9883\n",
      "\n",
      "Epoch 00004: val_acc improved from 0.98580 to 0.98832, saving model to /content/gdrive/My Drive/Colab Notebooks/CNN_weights/epochs:004-val_acc:0.988.hdf5\n",
      "Epoch 5/50\n",
      "1414/1414 [==============================] - 61s 43ms/step - loss: 0.0232 - acc: 0.9917 - val_loss: 0.0270 - val_acc: 0.9906\n",
      "\n",
      "Epoch 00005: val_acc improved from 0.98832 to 0.99063, saving model to /content/gdrive/My Drive/Colab Notebooks/CNN_weights/epochs:005-val_acc:0.991.hdf5\n",
      "Epoch 6/50\n",
      "1414/1414 [==============================] - 61s 43ms/step - loss: 0.0204 - acc: 0.9926 - val_loss: 0.0235 - val_acc: 0.9917\n",
      "\n",
      "Epoch 00006: val_acc improved from 0.99063 to 0.99173, saving model to /content/gdrive/My Drive/Colab Notebooks/CNN_weights/epochs:006-val_acc:0.992.hdf5\n",
      "Epoch 7/50\n",
      "1414/1414 [==============================] - 61s 43ms/step - loss: 0.0184 - acc: 0.9933 - val_loss: 0.0323 - val_acc: 0.9890\n",
      "\n",
      "Epoch 00007: val_acc did not improve from 0.99173\n",
      "Epoch 8/50\n",
      "1414/1414 [==============================] - 61s 43ms/step - loss: 0.0169 - acc: 0.9939 - val_loss: 0.0229 - val_acc: 0.9923\n",
      "\n",
      "Epoch 00008: val_acc improved from 0.99173 to 0.99229, saving model to /content/gdrive/My Drive/Colab Notebooks/CNN_weights/epochs:008-val_acc:0.992.hdf5\n",
      "Epoch 9/50\n",
      "1414/1414 [==============================] - 60s 43ms/step - loss: 0.0156 - acc: 0.9943 - val_loss: 0.0307 - val_acc: 0.9902\n",
      "\n",
      "Epoch 00009: val_acc did not improve from 0.99229\n",
      "Epoch 10/50\n",
      "1414/1414 [==============================] - 61s 43ms/step - loss: 0.0149 - acc: 0.9945 - val_loss: 0.0351 - val_acc: 0.9893\n",
      "\n",
      "Epoch 00010: val_acc did not improve from 0.99229\n",
      "Epoch 11/50\n",
      "1414/1414 [==============================] - 60s 42ms/step - loss: 0.0137 - acc: 0.9950 - val_loss: 0.0428 - val_acc: 0.9874\n",
      "\n",
      "Epoch 00011: val_acc did not improve from 0.99229\n",
      "Epoch 12/50\n",
      "1414/1414 [==============================] - 60s 43ms/step - loss: 0.0124 - acc: 0.9955 - val_loss: 0.0266 - val_acc: 0.9916\n",
      "\n",
      "Epoch 00012: val_acc did not improve from 0.99229\n",
      "Epoch 13/50\n",
      "1414/1414 [==============================] - 60s 42ms/step - loss: 0.0121 - acc: 0.9957 - val_loss: 0.0332 - val_acc: 0.9914\n",
      "\n",
      "Epoch 00013: val_acc did not improve from 0.99229\n",
      "Epoch 14/50\n",
      "1414/1414 [==============================] - 60s 42ms/step - loss: 0.0114 - acc: 0.9959 - val_loss: 0.0404 - val_acc: 0.9880\n",
      "\n",
      "Epoch 00014: val_acc did not improve from 0.99229\n",
      "Epoch 15/50\n",
      "1414/1414 [==============================] - 60s 42ms/step - loss: 0.0112 - acc: 0.9959 - val_loss: 0.0122 - val_acc: 0.9959\n",
      "\n",
      "Epoch 00015: val_acc improved from 0.99229 to 0.99589, saving model to /content/gdrive/My Drive/Colab Notebooks/CNN_weights/epochs:015-val_acc:0.996.hdf5\n",
      "Epoch 16/50\n",
      "1414/1414 [==============================] - 60s 42ms/step - loss: 0.0107 - acc: 0.9961 - val_loss: 0.0114 - val_acc: 0.9961\n",
      "\n",
      "Epoch 00016: val_acc improved from 0.99589 to 0.99612, saving model to /content/gdrive/My Drive/Colab Notebooks/CNN_weights/epochs:016-val_acc:0.996.hdf5\n",
      "Epoch 17/50\n",
      "1414/1414 [==============================] - 61s 43ms/step - loss: 0.0097 - acc: 0.9965 - val_loss: 0.0327 - val_acc: 0.9901\n",
      "\n",
      "Epoch 00017: val_acc did not improve from 0.99612\n",
      "Epoch 18/50\n",
      "1414/1414 [==============================] - 61s 43ms/step - loss: 0.0097 - acc: 0.9965 - val_loss: 0.0354 - val_acc: 0.9895\n",
      "\n",
      "Epoch 00018: val_acc did not improve from 0.99612\n",
      "Epoch 19/50\n",
      "1414/1414 [==============================] - 61s 43ms/step - loss: 0.0090 - acc: 0.9967 - val_loss: 0.0335 - val_acc: 0.9904\n",
      "\n",
      "Epoch 00019: val_acc did not improve from 0.99612\n",
      "Epoch 20/50\n",
      "1414/1414 [==============================] - 61s 43ms/step - loss: 0.0087 - acc: 0.9969 - val_loss: 0.0347 - val_acc: 0.9902\n",
      "\n",
      "Epoch 00020: val_acc did not improve from 0.99612\n",
      "Epoch 21/50\n",
      "1414/1414 [==============================] - 60s 42ms/step - loss: 0.0082 - acc: 0.9970 - val_loss: 0.0233 - val_acc: 0.9928\n",
      "\n",
      "Epoch 00021: val_acc did not improve from 0.99612\n",
      "Epoch 22/50\n",
      "1414/1414 [==============================] - 58s 41ms/step - loss: 0.0081 - acc: 0.9970 - val_loss: 0.0135 - val_acc: 0.9955\n",
      "\n",
      "Epoch 00022: val_acc did not improve from 0.99612\n",
      "Epoch 23/50\n",
      "1414/1414 [==============================] - 59s 42ms/step - loss: 0.0079 - acc: 0.9971 - val_loss: 0.0146 - val_acc: 0.9952\n",
      "\n",
      "Epoch 00023: val_acc did not improve from 0.99612\n",
      "Epoch 24/50\n",
      "1414/1414 [==============================] - 59s 41ms/step - loss: 0.0077 - acc: 0.9972 - val_loss: 0.0120 - val_acc: 0.9962\n",
      "\n",
      "Epoch 00024: val_acc improved from 0.99612 to 0.99624, saving model to /content/gdrive/My Drive/Colab Notebooks/CNN_weights/epochs:024-val_acc:0.996.hdf5\n",
      "Epoch 25/50\n",
      "1414/1414 [==============================] - 59s 42ms/step - loss: 0.0074 - acc: 0.9973 - val_loss: 0.0064 - val_acc: 0.9979\n",
      "\n",
      "Epoch 00025: val_acc improved from 0.99624 to 0.99787, saving model to /content/gdrive/My Drive/Colab Notebooks/CNN_weights/epochs:025-val_acc:0.998.hdf5\n",
      "Epoch 26/50\n",
      "1414/1414 [==============================] - 61s 43ms/step - loss: 0.0072 - acc: 0.9973 - val_loss: 0.0143 - val_acc: 0.9954\n",
      "\n",
      "Epoch 00026: val_acc did not improve from 0.99787\n",
      "Epoch 27/50\n",
      "1414/1414 [==============================] - 63s 45ms/step - loss: 0.0067 - acc: 0.9975 - val_loss: 0.0111 - val_acc: 0.9965\n",
      "\n",
      "Epoch 00027: val_acc did not improve from 0.99787\n",
      "Epoch 28/50\n",
      "1414/1414 [==============================] - 62s 44ms/step - loss: 0.0067 - acc: 0.9975 - val_loss: 0.0096 - val_acc: 0.9968\n",
      "\n",
      "Epoch 00028: val_acc did not improve from 0.99787\n",
      "Epoch 29/50\n",
      "1414/1414 [==============================] - 61s 43ms/step - loss: 0.0066 - acc: 0.9976 - val_loss: 0.0117 - val_acc: 0.9962\n",
      "\n",
      "Epoch 00029: val_acc did not improve from 0.99787\n",
      "Epoch 30/50\n",
      "1414/1414 [==============================] - 61s 43ms/step - loss: 0.0063 - acc: 0.9977 - val_loss: 0.0078 - val_acc: 0.9974\n",
      "\n",
      "Epoch 00030: val_acc did not improve from 0.99787\n",
      "Epoch 31/50\n",
      "1414/1414 [==============================] - 61s 43ms/step - loss: 0.0063 - acc: 0.9977 - val_loss: 0.0195 - val_acc: 0.9941\n",
      "\n",
      "Epoch 00031: val_acc did not improve from 0.99787\n",
      "Epoch 32/50\n",
      "1414/1414 [==============================] - 61s 43ms/step - loss: 0.0059 - acc: 0.9978 - val_loss: 0.0145 - val_acc: 0.9957\n",
      "\n",
      "Epoch 00032: val_acc did not improve from 0.99787\n",
      "Epoch 33/50\n",
      "1414/1414 [==============================] - 61s 43ms/step - loss: 0.0061 - acc: 0.9978 - val_loss: 0.0149 - val_acc: 0.9955\n",
      "\n",
      "Epoch 00033: val_acc did not improve from 0.99787\n",
      "Epoch 34/50\n",
      "1414/1414 [==============================] - 61s 43ms/step - loss: 0.0057 - acc: 0.9979 - val_loss: 0.0133 - val_acc: 0.9962\n",
      "\n",
      "Epoch 00034: val_acc did not improve from 0.99787\n",
      "Epoch 35/50\n",
      "1414/1414 [==============================] - 62s 44ms/step - loss: 0.0056 - acc: 0.9979 - val_loss: 0.0137 - val_acc: 0.9955\n",
      "\n",
      "Epoch 00035: val_acc did not improve from 0.99787\n",
      "Epoch 36/50\n",
      "1414/1414 [==============================] - 61s 43ms/step - loss: 0.0055 - acc: 0.9980 - val_loss: 0.0078 - val_acc: 0.9974\n",
      "\n",
      "Epoch 00036: val_acc did not improve from 0.99787\n",
      "Epoch 37/50\n",
      "1414/1414 [==============================] - 61s 43ms/step - loss: 0.0056 - acc: 0.9979 - val_loss: 0.0052 - val_acc: 0.9982\n",
      "\n",
      "Epoch 00037: val_acc improved from 0.99787 to 0.99821, saving model to /content/gdrive/My Drive/Colab Notebooks/CNN_weights/epochs:037-val_acc:0.998.hdf5\n",
      "Epoch 38/50\n",
      "1414/1414 [==============================] - 61s 43ms/step - loss: 0.0055 - acc: 0.9980 - val_loss: 0.0074 - val_acc: 0.9974\n",
      "\n",
      "Epoch 00038: val_acc did not improve from 0.99821\n",
      "Epoch 39/50\n",
      "1414/1414 [==============================] - 61s 43ms/step - loss: 0.0051 - acc: 0.9981 - val_loss: 0.0077 - val_acc: 0.9974\n",
      "\n",
      "Epoch 00039: val_acc did not improve from 0.99821\n",
      "Epoch 40/50\n",
      "1414/1414 [==============================] - 61s 43ms/step - loss: 0.0050 - acc: 0.9981 - val_loss: 0.0222 - val_acc: 0.9942\n",
      "\n",
      "Epoch 00040: val_acc did not improve from 0.99821\n",
      "Epoch 41/50\n",
      "1414/1414 [==============================] - 63s 44ms/step - loss: 0.0048 - acc: 0.9982 - val_loss: 0.0050 - val_acc: 0.9983\n",
      "\n",
      "Epoch 00041: val_acc improved from 0.99821 to 0.99829, saving model to /content/gdrive/My Drive/Colab Notebooks/CNN_weights/epochs:041-val_acc:0.998.hdf5\n",
      "Epoch 42/50\n",
      "1414/1414 [==============================] - 63s 45ms/step - loss: 0.0050 - acc: 0.9982 - val_loss: 0.0061 - val_acc: 0.9980\n",
      "\n",
      "Epoch 00042: val_acc did not improve from 0.99829\n",
      "Epoch 43/50\n",
      "1414/1414 [==============================] - 63s 45ms/step - loss: 0.0048 - acc: 0.9982 - val_loss: 0.0212 - val_acc: 0.9945\n",
      "\n",
      "Epoch 00043: val_acc did not improve from 0.99829\n",
      "Epoch 44/50\n",
      "1414/1414 [==============================] - 62s 44ms/step - loss: 0.0048 - acc: 0.9983 - val_loss: 0.0073 - val_acc: 0.9978\n",
      "\n",
      "Epoch 00044: val_acc did not improve from 0.99829\n",
      "Epoch 45/50\n",
      "1414/1414 [==============================] - 62s 44ms/step - loss: 0.0049 - acc: 0.9982 - val_loss: 0.0083 - val_acc: 0.9972\n",
      "\n",
      "Epoch 00045: val_acc did not improve from 0.99829\n",
      "Epoch 46/50\n",
      "1414/1414 [==============================] - 60s 43ms/step - loss: 0.0044 - acc: 0.9984 - val_loss: 0.0228 - val_acc: 0.9943\n",
      "\n",
      "Epoch 00046: val_acc did not improve from 0.99829\n",
      "Epoch 47/50\n",
      "1414/1414 [==============================] - 60s 43ms/step - loss: 0.0046 - acc: 0.9983 - val_loss: 0.0102 - val_acc: 0.9969\n",
      "\n",
      "Epoch 00047: val_acc did not improve from 0.99829\n",
      "Epoch 48/50\n",
      "1414/1414 [==============================] - 60s 43ms/step - loss: 0.0043 - acc: 0.9984 - val_loss: 0.0160 - val_acc: 0.9952\n",
      "\n",
      "Epoch 00048: val_acc did not improve from 0.99829\n",
      "Epoch 49/50\n",
      "1414/1414 [==============================] - 60s 43ms/step - loss: 0.0041 - acc: 0.9985 - val_loss: 0.0043 - val_acc: 0.9986\n",
      "\n",
      "Epoch 00049: val_acc improved from 0.99829 to 0.99860, saving model to /content/gdrive/My Drive/Colab Notebooks/CNN_weights/epochs:049-val_acc:0.999.hdf5\n",
      "Epoch 50/50\n",
      "1414/1414 [==============================] - 60s 43ms/step - loss: 0.0043 - acc: 0.9984 - val_loss: 0.0080 - val_acc: 0.9973\n",
      "\n",
      "Epoch 00050: val_acc did not improve from 0.99860\n"
     ]
    }
   ],
   "source": [
    "history = model.fit_generator(aug.flow(x_train,y_train, batch_size=32),validation_data=(test_x, test_y),\n",
    "                                   steps_per_epoch=len(train_x)//32 ,epochs=50, verbose=1,callbacks=callbacks_list)"
   ]
  },
  {
   "cell_type": "code",
   "execution_count": 0,
   "metadata": {
    "colab": {},
    "colab_type": "code",
    "id": "dmpUy7cvNCXn"
   },
   "outputs": [],
   "source": [
    "X"
   ]
  },
  {
   "cell_type": "code",
   "execution_count": 0,
   "metadata": {
    "colab": {},
    "colab_type": "code",
    "id": "zYUgTOOLtJ9V"
   },
   "outputs": [],
   "source": []
  }
 ],
 "metadata": {
  "accelerator": "GPU",
  "colab": {
   "authorship_tag": "ABX9TyPhA2Lw6+mJqcVcAho09a3Y",
   "name": "Cnn_training_major.ipynb",
   "provenance": []
  },
  "kernelspec": {
   "display_name": "Python 3",
   "language": "python",
   "name": "python3"
  },
  "language_info": {
   "codemirror_mode": {
    "name": "ipython",
    "version": 3
   },
   "file_extension": ".py",
   "mimetype": "text/x-python",
   "name": "python",
   "nbconvert_exporter": "python",
   "pygments_lexer": "ipython3",
   "version": "3.7.1"
  }
 },
 "nbformat": 4,
 "nbformat_minor": 1
}
